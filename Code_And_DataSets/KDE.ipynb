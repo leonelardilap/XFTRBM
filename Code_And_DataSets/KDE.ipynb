{
 "cells": [
  {
   "cell_type": "code",
   "execution_count": 1,
   "metadata": {},
   "outputs": [],
   "source": [
    "import csv\n",
    "import numpy as np\n",
    "import matplotlib.pyplot as plt\n",
    "from scipy.stats.distributions import norm\n",
    "import pandas as pd\n",
    "\n",
    "from sklearn.neighbors import KernelDensity\n",
    "from scipy.stats import gaussian_kde\n",
    "from statsmodels.nonparametric.kde import KDEUnivariate\n",
    "from statsmodels.nonparametric.kernel_density import KDEMultivariate\n",
    "\n",
    "from sklearn.linear_model import LinearRegression"
   ]
  },
  {
   "cell_type": "code",
   "execution_count": 2,
   "metadata": {},
   "outputs": [],
   "source": [
    "import csv\n",
    "#SAVE THE DATA\n",
    "def Save_Data(data, name):\n",
    "    ''' Save a list data in a .csv file '''\n",
    "    out = csv.writer(open(name,'a'),delimiter=',', quoting=csv.QUOTE_ALL)\n",
    "    for i in data:\n",
    "        out.writerow([i])\n",
    "        \n",
    "#save_data(P_DE, 'calor.csv')"
   ]
  },
  {
   "cell_type": "code",
   "execution_count": 3,
   "metadata": {},
   "outputs": [],
   "source": [
    "#RESTORE SAVE DATA\n",
    "def Restore_data(file_name):\n",
    "    ''' Restore the information .csv file in a python list '''\n",
    "    data=[]\n",
    "    with open(file_name, 'r') as csv_file:\n",
    "        csv_reader = csv.reader(csv_file, delimiter=',')\n",
    "        for row in csv_reader:\n",
    "            data.append(float(list(row)[0]))\n",
    "        #reader = csv.reader(f)\n",
    "        #restored_list = list(reader)[0]\n",
    "        #data = [float(i) for i in restored_list]\n",
    "        return data\n",
    "\n",
    "#heat = Restore_data('Calor.csv')"
   ]
  },
  {
   "cell_type": "code",
   "execution_count": 4,
   "metadata": {},
   "outputs": [],
   "source": [
    "def kde_sklearn(x, x_grid, bandwidth=0.2, **kwargs):\n",
    "    \"\"\"Kernel Density Estimation with Scikit-learn\"\"\"\n",
    "    kde_skl = KernelDensity(bandwidth=bandwidth, **kwargs)\n",
    "    kde_skl.fit(x[:, np.newaxis])\n",
    "    # score_samples() returns the log-likelihood of the samples\n",
    "    log_pdf = kde_skl.score_samples(x_grid[:, np.newaxis])\n",
    "    return np.exp(log_pdf)"
   ]
  },
  {
   "cell_type": "code",
   "execution_count": 5,
   "metadata": {},
   "outputs": [],
   "source": [
    "T_08= Restore_data('./Data/Delta_Energy_Temperature_v4_0.8.csv')"
   ]
  },
  {
   "cell_type": "code",
   "execution_count": 6,
   "metadata": {},
   "outputs": [
    {
     "data": {
      "text/plain": [
       "2000000"
      ]
     },
     "execution_count": 6,
     "metadata": {},
     "output_type": "execute_result"
    }
   ],
   "source": [
    "len(T_08)"
   ]
  },
  {
   "cell_type": "code",
   "execution_count": 7,
   "metadata": {},
   "outputs": [
    {
     "name": "stderr",
     "output_type": "stream",
     "text": [
      "/home/drdirac/TensorFlow_3.6/lib/python3.6/site-packages/matplotlib/axes/_axes.py:6499: MatplotlibDeprecationWarning: \n",
      "The 'normed' kwarg was deprecated in Matplotlib 2.1 and will be removed in 3.1. Use 'density' instead.\n",
      "  alternative=\"'density'\", removal=\"3.1\")\n"
     ]
    },
    {
     "data": {
      "image/png": "[encoded data removed]",
      "text/plain": [
       "<Figure size 432x288 with 1 Axes>"
      ]
     },
     "metadata": {
      "needs_background": "light"
     },
     "output_type": "display_data"
    }
   ],
   "source": [
    "#heat = Restore_data('Calor.csv')\n",
    "fig, ax = plt.subplots()\n",
    "ax.hist(T_08, 1000, fc='blue', alpha=0.3, normed=True)\n",
    "ax.set_xlabel('Delta_E')\n",
    "plt.grid(True)\n",
    "plt.show()"
   ]
  },
  {
   "cell_type": "code",
   "execution_count": 47,
   "metadata": {},
   "outputs": [
    {
     "data": {
      "image/png": "[encoded data removed]",
      "text/plain": [
       "<matplotlib.figure.Figure at 0x1134b5320>"
      ]
     },
     "metadata": {},
     "output_type": "display_data"
    }
   ],
   "source": [
    "heat1 = Restore_data('Calor1.csv')\n",
    "fig, ax = plt.subplots()\n",
    "ax.hist(heat1, 50, fc='blue', alpha=0.3, normed=True)\n",
    "ax.set_xlabel('Delta_E')\n",
    "plt.grid(True)\n",
    "plt.show()"
   ]
  },
  {
   "cell_type": "code",
   "execution_count": 48,
   "metadata": {},
   "outputs": [
    {
     "name": "stdout",
     "output_type": "stream",
     "text": [
      "[-30.         -23.33333333 -16.66666667 -10.          -3.33333333\n",
      "   3.33333333  10.          16.66666667  23.33333333  30.        ]\n"
     ]
    }
   ],
   "source": [
    "x_grid = np.linspace(-10.0, 10.0, 10)\n",
    "print(x_grid)"
   ]
  },
  {
   "cell_type": "code",
   "execution_count": 49,
   "metadata": {},
   "outputs": [
    {
     "name": "stdout",
     "output_type": "stream",
     "text": [
      "-3.333333333333332\n",
      "3.3333333333333357\n"
     ]
    }
   ],
   "source": [
    "#SI EL NUMERO DE ELEMENTOS ES \n",
    "print(x_grid[4])\n",
    "print(x_grid[5])"
   ]
  },
  {
   "cell_type": "code",
   "execution_count": 50,
   "metadata": {},
   "outputs": [
    {
     "name": "stdout",
     "output_type": "stream",
     "text": [
      "(10,)\n"
     ]
    }
   ],
   "source": [
    "print(x_grid.shape)"
   ]
  },
  {
   "cell_type": "code",
   "execution_count": 9,
   "metadata": {},
   "outputs": [
    {
     "data": {
      "image/png": "[encoded data removed]",
      "text/plain": [
       "<Figure size 432x288 with 1 Axes>"
      ]
     },
     "metadata": {
      "needs_background": "light"
     },
     "output_type": "display_data"
    }
   ],
   "source": [
    "fig, a = plt.subplots()\n",
    "x_grid = np.linspace(-10.0, 10.0, 100)\n",
    "P = kde_sklearn(np.array(T_08), x_grid, bandwidth=0.2)\n",
    "a.plot(x_grid, kde_sklearn(np.array(T_08), x_grid, bandwidth=0.1), label='ANTES')\n",
    "plt.show()"
   ]
  },
  {
   "cell_type": "code",
   "execution_count": 74,
   "metadata": {},
   "outputs": [
    {
     "data": {
      "image/png": "[encoded data removed]",
      "text/plain": [
       "<matplotlib.figure.Figure at 0x1133b6eb8>"
      ]
     },
     "metadata": {},
     "output_type": "display_data"
    }
   ],
   "source": [
    "heat2 = Restore_data('Calor2.csv')\n",
    "fig, ax = plt.subplots()\n",
    "ax.hist(heat1, 50, fc='blue', alpha=0.3, normed=True)\n",
    "ax.set_xlabel('Delta_E')\n",
    "plt.grid(True)\n",
    "plt.show()"
   ]
  },
  {
   "cell_type": "code",
   "execution_count": 8,
   "metadata": {},
   "outputs": [
    {
     "data": {
      "image/png": "[encoded data removed]",
      "text/plain": [
       "<Figure size 432x288 with 1 Axes>"
      ]
     },
     "metadata": {
      "needs_background": "light"
     },
     "output_type": "display_data"
    }
   ],
   "source": [
    "fig, a = plt.subplots()\n",
    "\n",
    "DE_max =  10.0\n",
    "DE_min = -10.0\n",
    "partitions = 100\n",
    "\n",
    "DE_grid = np.linspace(DE_min, DE_max, partitions)\n",
    "P = kde_sklearn(np.array(T_08), DE_grid, bandwidth=0.1)\n",
    "a.plot(DE_grid, kde_sklearn(np.array(T_08), DE_grid, bandwidth=0.1), label='ANTES')\n",
    "plt.grid(True)\n",
    "plt.show()"
   ]
  },
  {
   "cell_type": "code",
   "execution_count": 12,
   "metadata": {},
   "outputs": [],
   "source": [
    "lim = int(partitions/2)\n",
    "\n",
    "T1 = 1.0\n",
    "T2 = 0.8\n",
    "\n",
    "beta1 = 1.0/T1\n",
    "beta2 = 1.0/T2\n",
    "\n",
    "P_neg_Q = P[:lim][::-1] \n",
    "P_pos_Q = P[lim:]\n",
    "\n",
    "DE_neg_grid = DE_grid[:lim][::-1]\n",
    "DE_pos_grid = DE_grid[lim:]\n",
    "\n",
    "log_Ps = np.log(P_pos_Q/P_neg_Q)\n"
   ]
  },
  {
   "cell_type": "code",
   "execution_count": 13,
   "metadata": {},
   "outputs": [
    {
     "name": "stdout",
     "output_type": "stream",
     "text": [
      "-0.25053406547974877\n",
      "-0.0008890014708322624\n"
     ]
    }
   ],
   "source": [
    "model = LinearRegression(fit_intercept=True)\n",
    "model.fit(DE_pos_grid.reshape(-1, 1), log_Ps)\n",
    "print(model.coef_[0]) #slope\n",
    "print(model.intercept_) #intercep"
   ]
  },
  {
   "cell_type": "code",
   "execution_count": 14,
   "metadata": {},
   "outputs": [
    {
     "data": {
      "image/png": "[encoded data removed]",
      "text/plain": [
       "<Figure size 432x288 with 1 Axes>"
      ]
     },
     "metadata": {
      "needs_background": "light"
     },
     "output_type": "display_data"
    }
   ],
   "source": [
    "plt.scatter(DE_pos_grid, log_Ps)\n",
    "plt.show()"
   ]
  },
  {
   "cell_type": "code",
   "execution_count": 197,
   "metadata": {},
   "outputs": [
    {
     "name": "stdout",
     "output_type": "stream",
     "text": [
      "[ -0.3030303   -0.90909091  -1.51515152  -2.12121212  -2.72727273\n",
      "  -3.33333333  -3.93939394  -4.54545455  -5.15151515  -5.75757576\n",
      "  -6.36363636  -6.96969697  -7.57575758  -8.18181818  -8.78787879\n",
      "  -9.39393939 -10.         -10.60606061 -11.21212121 -11.81818182\n",
      " -12.42424242 -13.03030303 -13.63636364 -14.24242424 -14.84848485\n",
      " -15.45454545 -16.06060606 -16.66666667 -17.27272727 -17.87878788\n",
      " -18.48484848 -19.09090909 -19.6969697  -20.3030303  -20.90909091\n",
      " -21.51515152 -22.12121212 -22.72727273 -23.33333333 -23.93939394\n",
      " -24.54545455 -25.15151515 -25.75757576 -26.36363636 -26.96969697\n",
      " -27.57575758 -28.18181818 -28.78787879 -29.39393939 -30.        ]\n"
     ]
    }
   ],
   "source": [
    "print(DE_grid[:int(partitions/2)][::-1])"
   ]
  },
  {
   "cell_type": "code",
   "execution_count": 108,
   "metadata": {},
   "outputs": [
    {
     "name": "stdout",
     "output_type": "stream",
     "text": [
      "[ 0.3030303   0.90909091  1.51515152  2.12121212  2.72727273  3.33333333\n",
      "  3.93939394  4.54545455  5.15151515  5.75757576  6.36363636  6.96969697\n",
      "  7.57575758  8.18181818  8.78787879  9.39393939 10.         10.60606061\n",
      " 11.21212121 11.81818182 12.42424242 13.03030303 13.63636364 14.24242424\n",
      " 14.84848485 15.45454545 16.06060606 16.66666667 17.27272727 17.87878788\n",
      " 18.48484848 19.09090909 19.6969697  20.3030303  20.90909091 21.51515152\n",
      " 22.12121212 22.72727273 23.33333333 23.93939394 24.54545455 25.15151515\n",
      " 25.75757576 26.36363636 26.96969697 27.57575758 28.18181818 28.78787879\n",
      " 29.39393939 30.        ]\n"
     ]
    }
   ],
   "source": [
    "print(DE_grid[int(partitions/2):])"
   ]
  },
  {
   "cell_type": "code",
   "execution_count": 15,
   "metadata": {},
   "outputs": [
    {
     "data": {
      "text/plain": [
       "-0.25"
      ]
     },
     "execution_count": 15,
     "metadata": {},
     "output_type": "execute_result"
    }
   ],
   "source": [
    "beta1-beta2"
   ]
  },
  {
   "cell_type": "code",
   "execution_count": null,
   "metadata": {},
   "outputs": [],
   "source": []
  }
 ],
 "metadata": {
  "kernelspec": {
   "display_name": "TensorFlow_3.6",
   "language": "python",
   "name": "tensorflow_3.6"
  },
  "language_info": {
   "codemirror_mode": {
    "name": "ipython",
    "version": 3
   },
   "file_extension": ".py",
   "mimetype": "text/x-python",
   "name": "python",
   "nbconvert_exporter": "python",
   "pygments_lexer": "ipython3",
   "version": "3.6.6"
  }
 },
 "nbformat": 4,
 "nbformat_minor": 2
}
